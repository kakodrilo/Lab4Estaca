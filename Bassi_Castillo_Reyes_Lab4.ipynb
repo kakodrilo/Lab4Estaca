{
 "cells": [
  {
   "cell_type": "markdown",
   "metadata": {},
   "source": [
    "<img src=\"img/usmlogo.png\" style=\"float:right;height:85px\">\n",
    "<img src=\"img/dilogo.png\" style=\"float:left;height:90px\">\n",
    "<center>\n",
    "    <h1> Laboratorio 3 </h1>\n",
    "    <h2> Profesor: Ricardo Ñanculef </h2>\n",
    "    <h3> Ayudante: Gabriel Ortega </h3>\n",
    "    <h4> Renato Bassi Castillo ; 201773521-K ; Malla Nueva </h4>\n",
    "    <h4> Joaquín Castillo Tapia ; 201773520-1 ; Malla Nueva </h4>\n",
    "    <h4> Axel Reyes Orellana ; 201773502-3 ; Malla Nueva </h4>\n",
    "    <center><h4>Agosto 2019</h4></center>\n",
    "</center> \n"
   ]
  },
  {
   "cell_type": "code",
   "execution_count": 62,
   "metadata": {},
   "outputs": [],
   "source": [
    "from scipy.stats import shapiro\n",
    "import numpy as np\n",
    "import matplotlib.pyplot as plt\n",
    "import seaborn as sns\n",
    "from random import choice\n",
    "import csv\n",
    "import pandas as pd\n",
    "from sklearn.model_selection import train_test_split as tts\n",
    "from scipy.stats import norm\n",
    "from scipy.stats import t as ts\n",
    "sns.set()\n",
    "%matplotlib inline "
   ]
  },
  {
   "cell_type": "markdown",
   "metadata": {},
   "source": [
    "## 1. Test de Hipótesis (25p)\n",
    "\n",
    "Muchos procesos estadísticos utilizados asumen la normalidad de los datos para poder trabajar, la normalidad de los datos simplifica el trabajo en muchos casos, pero, ¿es posible asumir siempre esta normalidad?, como la respuesta es claramente \"no\" en esta sección trabajará el [Test de hipótesis de Shapiro-Wilks](http://riotorto.users.sourceforge.net/R/noparam_shapiro/) cuya utilidad es poder determinar si un conjunto de datos sigue una distribución normal o no. (Queda propuesto para el estudiante investigar más sobre este test)\n",
    "\n",
    "Recordando el trabajo realizado en el laboratorio anterior, respecto al teorema del límite central, utilizaremos la misma distribución dada para trabajar con este test de hipótesis \n",
    "\n",
    "| Valor | Probabilidad |\n",
    "|:-----:|:------------:|\n",
    "|   1   |      0.1     |\n",
    "|   2   |      0.2     |\n",
    "|   5   |     0.05     |\n",
    "|   6   |     0.05     |\n",
    "|   7   |      0.2     |\n",
    "|   9   |     0.10     |\n",
    "|   10  |     0.05     |\n",
    "|   11  |     0.2      |\n",
    "|   12  |     0.05     |\n",
    "\n",
    "Se trabajará con 3 muestras:\n",
    "\n",
    "* Una muestra de tamaño 1000 de la población original (distribución dada)\n",
    "* La distribución de 1000 medias de muestras de tamaño 12 \n",
    "* La distribución de 1000 medias de muestras de tamaño 120\n",
    "\n",
    "--------------\n",
    ">a) A priori ¿Qué muestra/s esperaría usted que siguieran una distribución normal? ¿Cuáles no? Responda utilizando el teorema del límite central. (Independiente de lo que obtenga en b), el puntaje se dará según la justificación que se de)"
   ]
  },
  {
   "cell_type": "markdown",
   "metadata": {},
   "source": [
    "**R.-** Según lo  estudiado en el laboratorios anteriores, las tres muestras se comportaran como una distribución normal, ya que todas se obtienen  a partir de una gran número de repeticiones. Pero es necesario destacar que la *mustra 3* será la más cercana a la distribución normal teórica postulada por el *Teorema del Limite Central* ya que obtiene muestras a partir de 120 datos generados, que es un orden de magnitud mayor a la *muestra 2*, y  dos ordenes de magnitud mayor a la *muestra 1*, lo que permite una mustra más representativa de los datos."
   ]
  },
  {
   "cell_type": "markdown",
   "metadata": {},
   "source": [
    "----------------\n",
    ">b) Realice el test de hipótesis de shapiro-wilk **utilizando las funciones provistas por los lenguajes** y comente las muestras que cumplen con la normalidad de datos y las que no bajo un nivel de significancia del 1% y 5%. Compare los resultados que obtiene con cada nivel de significancia para cada muestra y comente."
   ]
  },
  {
   "cell_type": "markdown",
   "metadata": {},
   "source": [
    "Funciones a utilizar\n",
    "---------------\n",
    "\n",
    "**Elegir( list v, list p, int n, int P)**\n",
    "\n",
    "Función que genera una lista de largo **_P_**, en donde cada elemento es la media aritmética de una lista de largo **_n_** generada a partir de los valores de la lista **_v_** en base a la probabilidad señalada por la lista **_p_**."
   ]
  },
  {
   "cell_type": "code",
   "execution_count": 63,
   "metadata": {},
   "outputs": [],
   "source": [
    "def Elegir(v,p,n,P):\n",
    "    np.random.seed(2019)\n",
    "    r=[]\n",
    "    for i in range(P):\n",
    "        l = np.random.choice(v,size=n,p=p)\n",
    "        m = np.mean(l)\n",
    "        r.append(m)\n",
    "    return r"
   ]
  },
  {
   "cell_type": "markdown",
   "metadata": {},
   "source": [
    "--------------------\n",
    "Desarrollo\n",
    "-----------\n",
    "\n",
    "Se presentan dos listas, con los datos de la tabla, para futuros cálculos:"
   ]
  },
  {
   "cell_type": "code",
   "execution_count": 64,
   "metadata": {},
   "outputs": [],
   "source": [
    "v = [1,2,5,6,7,9,10,11,12]  # Valores\n",
    "p = [0.1,0.2,0.05,0.05,0.2,0.10,0.05,0.2,0.05] # Probabilidades"
   ]
  },
  {
   "cell_type": "markdown",
   "metadata": {},
   "source": [
    "Se generan las muestras solicitadas para el estudio a partir de los datos de la tabla:"
   ]
  },
  {
   "cell_type": "code",
   "execution_count": 65,
   "metadata": {},
   "outputs": [],
   "source": [
    "muestra1 = Elegir(v,p,1,1000)\n",
    "muestra2 = Elegir(v,p,12,1000)\n",
    "muestra3 = Elegir(v,p,120,1000)"
   ]
  },
  {
   "cell_type": "markdown",
   "metadata": {},
   "source": [
    "Se calcula el estadístico de contraste $(W)$ y la probabilidad crítica $(p_c)$ de cada muestra:\n",
    "\n",
    "**Muestra 1** "
   ]
  },
  {
   "cell_type": "code",
   "execution_count": 66,
   "metadata": {},
   "outputs": [
    {
     "name": "stdout",
     "output_type": "stream",
     "text": [
      "W =  0.8827991485595703\n",
      "p-value =  8.183033666528372e-27\n"
     ]
    }
   ],
   "source": [
    "x = shapiro(muestra1)\n",
    "print(\"W = \",x[0])\n",
    "print(\"p-value = \",x[1])"
   ]
  },
  {
   "cell_type": "markdown",
   "metadata": {},
   "source": [
    "**Muestra 2**"
   ]
  },
  {
   "cell_type": "code",
   "execution_count": 67,
   "metadata": {},
   "outputs": [
    {
     "name": "stdout",
     "output_type": "stream",
     "text": [
      "W =  0.9984117150306702\n",
      "p-value =  0.4983111321926117\n"
     ]
    }
   ],
   "source": [
    "x = shapiro(muestra2)\n",
    "print(\"W = \",x[0])\n",
    "print(\"p-value = \",x[1])"
   ]
  },
  {
   "cell_type": "markdown",
   "metadata": {},
   "source": [
    "**Muestra 3**"
   ]
  },
  {
   "cell_type": "code",
   "execution_count": 68,
   "metadata": {},
   "outputs": [
    {
     "name": "stdout",
     "output_type": "stream",
     "text": [
      "W =  0.9968850016593933\n",
      "p-value =  0.04723530635237694\n"
     ]
    }
   ],
   "source": [
    "x = shapiro(muestra3)\n",
    "print(\"W = \",x[0])\n",
    "print(\"p-value = \",x[1])"
   ]
  },
  {
   "cell_type": "markdown",
   "metadata": {},
   "source": [
    "---------------------------\n",
    "Los datos obtenidos nos indican que para un nivel de **_significancia_** del **_1%_** las **_muestras 2_** y **_3_** son aprobadas, ya que su probabilidad crítica es de $0.498$ y $0.047$ respectivamente, menores al **_1%_** establecido. Por lo tanto no se descarta que sus datos provengan de una distribución normal.\n",
    "En cuanto a la **_muestra 1_**, se obtuvo una probabilidad crítica de $ 8,18 \\times 10^{-27} $ lo que es menor al **_1%_** establecido, por lo tanto se rechaza la hipótesis, y se dice que la muestra no sigue una distribución normal.\n",
    "\n",
    "Si analizamos las muestras con un nivel de **_significancia_** del **_5%_** obtenemos otros resultados, pues sólo la **_muestra 2_** es aprobada, ya que su probabilidad crítica es de $0.498$, un valor muy superior al establecido por el **_5%_**. En consecuencia, no se puede descartar que la muestra siga una distribución normal.\n",
    "Para las muestras restantes, se obtuvieron probabilidaddes críticas de $ 8,18 \\times 10^{-27} $ y $0.047$ a partir de las **_muestras 1_** y **_3_** respectivamente, los cuales son menores al valor establecido por el **_5%_**. Por lo tanto, se rechaza la hipótesis y se concluye que las muestras no siguen una distribución normal.\n",
    "\n",
    "Al comparar los resultados para cada nivel de **_significancia_**, evidenciamos que la **_muestra 3_** es rechazada sólo para uno de los casos (**_5%_**), indicando que dependiendo del nivel de significancia que buscamos podemos considerarla o no como una posible distribución normal. No es el caso de las otras muestras, ya que la **_muestra 1_** fue rechazada en ambos análisis, y la muestra 2 fue considerada como posible distribución normal para ambos niveles de significancia. Esto último permite tener un mayor nivel de seguridad en la decisíón final al rechazar la hipótesis de la **_muestra 1_**."
   ]
  },
  {
   "cell_type": "markdown",
   "metadata": {},
   "source": [
    "-----------\n",
    ">c) ¿Qué sucede a medida que el nivel de significancia se acerca a 0? ¿Qué puede concluir acerca del nivel de significancia que se utiliza?"
   ]
  },
  {
   "cell_type": "markdown",
   "metadata": {},
   "source": [
    "**R.-** A medida que la significancia se acerca a cero, menos muestras de datos son rechazadas. Por ende se podría considerar una muestra que está muy lejos de comportarse como una distribución normal, es decir, aumenta la probabilidad de equivocarse.\n",
    "\n",
    "En el caso de la pregunta, con niveles de significancia del 1% y del 5%, es posible decir que la probabilidad de error es muy alta, pues se están incluyendo muchos casos, en donde no todos provienen de una distribución normal. En otras palabras, si se quiere estar seguro de la decisión, se debe usar un nivel de significancia del 100%."
   ]
  },
  {
   "cell_type": "markdown",
   "metadata": {},
   "source": [
    "## 2. Bootstrap e Intervalos de Confianza (30p) \n",
    "\n",
    "Suponga que tiene una muestra  <b>M</b> de una población <b>P</b> y esta muestra <b>M</b> es de tamaño <b>N</b>. Queremos obtener algún estimador $ \\theta $ de <b>P</b> a partir de <b>M</b> ya sea la media, varianza, o alguna otra función que interese, obviamente este estimador tendrá un error asociado ya que no es el estimador de la población. Uno de los métodos para determinar intervalos de confianza es el método bootstrap que permite trabajar solamente con una muestra de la población.\n",
    "\n",
    "Podemos entender bootstrap de la siguiente manera: Suponga que tenemos en una bolsa papelitos con cada elemento de la muestra <b>M</b>, sacamos un papelito, <b>lo volvemos a guardar en la bolsa</b> y repetimos este proceso <b>N</b> veces hasta tener una muestra $M^{1*}$ y sobre esta muestra de la muestra aplicamos la función que queremos conocer (media, varianza, etc) teniendo un estimador $ \\theta ^{1*} $ . Luego repetimos este proceso <b>B</b> veces y terminamos con un conjunto de <b>B</b> estimadores. \n",
    "\n",
    "En esta sección trabajará con una muestra de una población $N\\sim (50,20)$ muestra.csv\n",
    "\n",
    "[Método Bootstrap](https://www.youtube.com/watch?v=ZCXg64l9R_4)\n",
    "\n",
    ">*Construir intervalos de confianza bootstrap queda pendiente para el estudiante* \n",
    "\n",
    "Nos interesará probar la construcción de un intervalo de confianza para la media y desviación estándar utilizando solamente la muestra de esta población. \n",
    "\n",
    ">a) Utilizando el método bootstrap **a mano** (no funciones de los lenguajes) construya 1000 intervalos de confianza para la media y la desviación estándar, luego grafique cada intervalo y el valor teórico de la media/varianza y concluya respecto a lo que observa. Haga este proceso para un nivel de significancia de 85%, 95% y 99%, comente lo que observe y concluya. \n",
    "\n",
    "*PD: La ausencia de conclusión respecto a los distintos niveles de significancia implica 0 puntos en la pregunta*\n",
    "\n",
    "> **Hint:** Puede contrastar lo obtenido con lo esperado"
   ]
  },
  {
   "cell_type": "markdown",
   "metadata": {},
   "source": [
    "Desarrollo\n",
    "-----------\n",
    "\n",
    "Se leen los datos y se guardan en una lista"
   ]
  },
  {
   "cell_type": "code",
   "execution_count": 69,
   "metadata": {},
   "outputs": [],
   "source": [
    "muestra = []\n",
    "with open('muestra.csv') as csv_file:\n",
    "    csv_reader = csv.reader(csv_file, delimiter=',')      \n",
    "    line_count = 0\n",
    "    for row in csv_reader:\n",
    "        if line_count == 0:\n",
    "            line_count += 1\n",
    "        else:\n",
    "            dato = row[1]\n",
    "            muestra.append(float(dato))"
   ]
  },
  {
   "cell_type": "markdown",
   "metadata": {},
   "source": [
    "Se definen variables para los cálculos siguientes"
   ]
  },
  {
   "cell_type": "code",
   "execution_count": 70,
   "metadata": {},
   "outputs": [],
   "source": [
    "coord_media85 = []\n",
    "coord_media95 = []\n",
    "coord_media99 = []\n",
    "\n",
    "min1 = 999\n",
    "min2 = 999\n",
    "min3 = 999\n",
    "min4 = 999\n",
    "min5 = 999\n",
    "min6 = 999\n",
    "\n",
    "max1 = -999\n",
    "max2 = -999\n",
    "max3 = -999\n",
    "max4 = -999\n",
    "max5 = -999\n",
    "max6 = -999\n",
    "\n",
    "coord_desv85 = []\n",
    "coord_desv95 = []\n",
    "coord_desv99 = []"
   ]
  },
  {
   "cell_type": "markdown",
   "metadata": {},
   "source": [
    "Se calcula la media de la muestra original"
   ]
  },
  {
   "cell_type": "code",
   "execution_count": 71,
   "metadata": {},
   "outputs": [
    {
     "name": "stdout",
     "output_type": "stream",
     "text": [
      "47.50880927550732\n"
     ]
    }
   ],
   "source": [
    "media_real = np.mean(muestra)\n",
    "print(media_real)"
   ]
  },
  {
   "cell_type": "markdown",
   "metadata": {},
   "source": [
    "Se calcula la desviación estándar de la muestra original"
   ]
  },
  {
   "cell_type": "code",
   "execution_count": 72,
   "metadata": {},
   "outputs": [
    {
     "name": "stdout",
     "output_type": "stream",
     "text": [
      "19.39059370805467\n"
     ]
    }
   ],
   "source": [
    "desv_real = np.std(muestra)  \n",
    "print(desv_real)"
   ]
  },
  {
   "cell_type": "markdown",
   "metadata": {},
   "source": [
    "Se repite el procedimiento para obtener los 1000 intervalos de confianza\n",
    "\n",
    "El siguiente bloque de código demora mucho en ejecutarse (2-3 minutos máximo)\n",
    "Cuando se imprima \"Intervalos calculados exitósamente\" habrá terminado."
   ]
  },
  {
   "cell_type": "code",
   "execution_count": 73,
   "metadata": {},
   "outputs": [
    {
     "name": "stdout",
     "output_type": "stream",
     "text": [
      "Intervalos calculados exitósamente\n"
     ]
    }
   ],
   "source": [
    "for i in range(1000):                 \n",
    "    medias = []\n",
    "    desv_stdr = []\n",
    "    #Se realizan 1000 muestras bootstrap\n",
    "    for b in range(1000):\n",
    "        muestras = []\n",
    "        #Se escogen 100 datos aleatoriamente de la muestra original para la muestra \n",
    "        for n in range(100):\n",
    "            muestras.append(choice(muestra))\n",
    "        \n",
    "        #Se calcula la media de la muestra bootstrap \n",
    "        media_bootstrap = sum(muestras)/100\n",
    "        \n",
    "        #Se calcula la desviación de la media para utilizar posteriormente el método de los percentiles\n",
    "        sigmaM = media_real - media_bootstrap\n",
    "        medias.append(sigmaM)\n",
    "        \n",
    "        #Se calcula la desviación estándar de la muestra bootstrap \n",
    "        desv_bootstrap = np.std(muestras)\n",
    "        \n",
    "        #Se calcula la desviación de la desviación estándar para utilizar posteriormente el método de los percentiles\n",
    "        sigmaD = desv_real - desv_bootstrap\n",
    "        desv_stdr.append(sigmaD)\n",
    "        \n",
    "    #Se ordenan ascendentemente las desviaciones de la media y desviación estándar\n",
    "    medias.sort()\n",
    "    desv_stdr.sort()\n",
    "     \n",
    "    #Luego para determinar los intervalos de confianza de cada dato, media y desviación estándar, se utiliza \n",
    "    #el método de los percentiles, el cual dice que si se quiere una confianza de x% con tamaño de la muestra n,\n",
    "    #el límite inferior del intervalo estará dado por la resta entre la muestra o desviación estándar de la muestra \n",
    "    # original, según sea el caso, y la desviaciones correspondientes a las posiciones: ((100-x)/2)*(n/100) para\n",
    "    #el límite inferior, y n-((100-x)/2)*(n/100) para el límite superior.\n",
    "    \n",
    "    # Nivel de confianza de 85%\n",
    "    \n",
    "    # Media\n",
    "    lim_inf85_media = media_real - medias[74]     #Notar que la posición no es 75 exacto ya que comienza desde 0\n",
    "    lim_sup85_media = media_real - medias[924]\n",
    "    if(lim_inf85_media < min1):                   \n",
    "        min1 = lim_inf85_media\n",
    "    if(lim_sup85_media > max1):                 #Se guardan los límites más extremos para dimensionar el gráfico\n",
    "        max1 = lim_sup85_media                    \n",
    "        \n",
    "    y1 = [lim_inf85_media, lim_sup85_media]\n",
    "    x1 = [i,i]\n",
    "    coord_media85.append((x1,y1))  #Se guardan las coordenadas de los intervalos para graficarlos posteriormente\n",
    "    \n",
    "    # Desviación Estándar\n",
    "    lim_inf85_desv = desv_real - desv_stdr[74]\n",
    "    lim_sup85_desv = desv_real - desv_stdr[924]\n",
    "    if(lim_inf85_desv < min2):\n",
    "        min2 = lim_inf85_desv\n",
    "    if(lim_sup85_desv > max2):\n",
    "        max2 = lim_sup85_desv\n",
    "    y1 = [lim_inf85_desv, lim_sup85_desv]\n",
    "    x1 = [i,i]\n",
    "    coord_desv85.append((x1,y1))\n",
    "    \n",
    "    \n",
    "    # Nivel de confianza de 95%\n",
    "    \n",
    "    # Media\n",
    "    lim_inf95_media = media_real - medias[24]\n",
    "    lim_sup95_media = media_real - medias[974]\n",
    "    if(lim_inf95_media < min3):\n",
    "        min3 = lim_inf95_media\n",
    "    if(lim_sup95_media > max3):\n",
    "        max3 = lim_sup95_media\n",
    "    y1 = [lim_inf95_media, lim_sup95_media]\n",
    "    x1 = [i,i]\n",
    "    coord_media95.append((x1,y1))\n",
    "    \n",
    "    # Desviación Estándar\n",
    "    lim_inf95_desv = desv_real - desv_stdr[24]\n",
    "    lim_sup95_desv = desv_real - desv_stdr[974]\n",
    "    if(lim_inf95_desv < min4):\n",
    "        min4 = lim_inf95_desv\n",
    "    if(lim_sup95_desv > max4):\n",
    "        max4 = lim_sup95_desv\n",
    "    y1 = [lim_inf95_desv, lim_sup95_desv]\n",
    "    x1 = [i,i]\n",
    "    coord_desv95.append((x1,y1))\n",
    "    \n",
    "    \n",
    "    # Nivel de confianza de 99%\n",
    "    \n",
    "    # Media\n",
    "    lim_inf99_media = media_real - medias[4]\n",
    "    lim_sup99_media = media_real - medias[994]\n",
    "    if(lim_inf99_media < min5):\n",
    "        min5 = lim_inf99_media\n",
    "    if(lim_sup99_media > max5):\n",
    "        max5 = lim_sup99_media\n",
    "    y1 = [lim_inf99_media, lim_sup99_media]\n",
    "    x1 = [i,i]\n",
    "    coord_media99.append((x1,y1))\n",
    "    \n",
    "    # Desviación Estándar\n",
    "    lim_inf99_desv = desv_real - desv_stdr[4]\n",
    "    lim_sup99_desv = desv_real - desv_stdr[994]\n",
    "    if(lim_inf99_desv < min6):\n",
    "        min6 = lim_inf99_desv\n",
    "    if(lim_sup99_desv > max6):\n",
    "        max6 = lim_sup99_desv\n",
    "    y1 = [lim_inf99_desv, lim_sup99_desv]\n",
    "    x1 = [i,i]\n",
    "    coord_desv99.append((x1,y1))\n",
    "    \n",
    "print(\"Intervalos calculados exitósamente\")"
   ]
  },
  {
   "cell_type": "markdown",
   "metadata": {},
   "source": [
    "--------------\n",
    "Gráfico de los intervalos de confianza de 85% de la media:"
   ]
  },
  {
   "cell_type": "code",
   "execution_count": 74,
   "metadata": {},
   "outputs": [
    {
     "data": {
      "image/png": "[encoded data removed]",
      "text/plain": [
       "<Figure size 432x288 with 1 Axes>"
      ]
     },
     "metadata": {
      "needs_background": "light"
     },
     "output_type": "display_data"
    }
   ],
   "source": [
    "x1 = [0,1000]\n",
    "y1 = [50,50]\n",
    "coord_media85.append((x1,y1))              #Se agregan las coordenadas del valor real (linea horizontal)\n",
    "\n",
    "for intervalo in coord_media85:\n",
    "    plt.axis([0, 1000, min1-6, max1+6])\n",
    "    plt.plot(intervalo[0],intervalo[1],linewidth=0.5)\n",
    "plt.show()"
   ]
  },
  {
   "cell_type": "markdown",
   "metadata": {},
   "source": [
    "Gráfico de los intervalos de confianza de 85% de la desviación estándar:"
   ]
  },
  {
   "cell_type": "code",
   "execution_count": 75,
   "metadata": {},
   "outputs": [
    {
     "data": {
      "image/png": "[encoded data removed]",
      "text/plain": [
       "<Figure size 432x288 with 1 Axes>"
      ]
     },
     "metadata": {
      "needs_background": "light"
     },
     "output_type": "display_data"
    }
   ],
   "source": [
    "x1 = [0,1000]\n",
    "y1 = [20,20]\n",
    "coord_desv85.append((x1,y1))               #Se agregan las coordenadas del valor real (linea horizontal)\n",
    "\n",
    "for intervalo in coord_desv85:\n",
    "    plt.axis([0, 1000, min2-4, max2+4])\n",
    "    plt.plot(intervalo[0],intervalo[1],linewidth=0.5)\n",
    "plt.show()"
   ]
  },
  {
   "cell_type": "markdown",
   "metadata": {},
   "source": [
    "----------------\n",
    "Gráfico de los intervalos de confianza de 95% de la media:"
   ]
  },
  {
   "cell_type": "code",
   "execution_count": 76,
   "metadata": {},
   "outputs": [
    {
     "data": {
      "image/png": "[encoded data removed]",
      "text/plain": [
       "<Figure size 432x288 with 1 Axes>"
      ]
     },
     "metadata": {
      "needs_background": "light"
     },
     "output_type": "display_data"
    }
   ],
   "source": [
    "x1 = [0,1000]\n",
    "y1 = [50,50]\n",
    "coord_media95.append((x1,y1))\n",
    "\n",
    "for intervalo in coord_media95:\n",
    "    plt.axis([0, 1000, min3-8, max3+8])\n",
    "    plt.plot(intervalo[0],intervalo[1],linewidth=0.5)\n",
    "plt.show()"
   ]
  },
  {
   "cell_type": "markdown",
   "metadata": {},
   "source": [
    "Gráfico de los intervalos de confianza de 95% de la desviación estándar"
   ]
  },
  {
   "cell_type": "code",
   "execution_count": 77,
   "metadata": {},
   "outputs": [
    {
     "data": {
      "image/png": "[encoded data removed]",
      "text/plain": [
       "<Figure size 432x288 with 1 Axes>"
      ]
     },
     "metadata": {
      "needs_background": "light"
     },
     "output_type": "display_data"
    }
   ],
   "source": [
    "x1 = [0,1000]\n",
    "y1 = [20,20]\n",
    "coord_desv95.append((x1,y1))\n",
    "\n",
    "for intervalo in coord_desv95:\n",
    "    plt.axis([0, 1000, min4-6, max4+6])\n",
    "    plt.plot(intervalo[0],intervalo[1],linewidth=0.5)\n",
    "plt.show()"
   ]
  },
  {
   "cell_type": "markdown",
   "metadata": {},
   "source": [
    "---------------\n",
    "Gráfico de los intervalos de confianza de 99% de la media:"
   ]
  },
  {
   "cell_type": "code",
   "execution_count": 78,
   "metadata": {},
   "outputs": [
    {
     "data": {
      "image/png": "[encoded data removed]",
      "text/plain": [
       "<Figure size 432x288 with 1 Axes>"
      ]
     },
     "metadata": {
      "needs_background": "light"
     },
     "output_type": "display_data"
    }
   ],
   "source": [
    "x1 = [0,1000]\n",
    "y1 = [50,50]\n",
    "coord_media99.append((x1,y1))\n",
    "\n",
    "for intervalo in coord_media99:\n",
    "    plt.axis([0, 1000, min5-10, max5+10])\n",
    "    plt.plot(intervalo[0],intervalo[1],linewidth=0.5)\n",
    "plt.show()"
   ]
  },
  {
   "cell_type": "markdown",
   "metadata": {},
   "source": [
    "Gráfico de los intervalos de confianza de 99% de la desviación estándar:"
   ]
  },
  {
   "cell_type": "code",
   "execution_count": 79,
   "metadata": {},
   "outputs": [
    {
     "data": {
      "image/png": "[encoded data removed]",
      "text/plain": [
       "<Figure size 432x288 with 1 Axes>"
      ]
     },
     "metadata": {
      "needs_background": "light"
     },
     "output_type": "display_data"
    }
   ],
   "source": [
    "x1 = [0,1000]\n",
    "y1 = [20,20]\n",
    "coord_desv99.append((x1,y1))\n",
    "\n",
    "for intervalo in coord_desv99:\n",
    "    plt.axis([0, 1000, min6-7, max6+7])\n",
    "    plt.plot(intervalo[0],intervalo[1],linewidth=0.5)\n",
    "plt.show()"
   ]
  },
  {
   "cell_type": "markdown",
   "metadata": {},
   "source": [
    "--------------\n",
    "**Análisis y Respuesta**\n",
    "\n",
    "Se asume que la muestra es independiente e idénticamente distribuida (IID) para poder realizar las estimaciones correspondientes. También se asume de que en el enunciado al decir 85% 95% y 99% de nivel de significancia en realidad quería decir confianza (nivel de significancia = alpha = error).\n",
    "\n",
    "Teóricamente, a medida que disminuye el nivel de significancia el intervalo se hace cada vez más extenso, de manera que al abarcar un mayor rango se reduce la probabilidad de equivocarse.\n",
    "Esto se puede apreciar claramente en los gráficos, ya que se obtiene que los intervalos son apróximadamente los siguientes:\n",
    "\n",
    "Confianza 85%:\n",
    "Media [44.5, 50.5]\n",
    "Desviación Estándar [17.5, 21.5]\n",
    "\n",
    "Confianza 95%:\n",
    "Media [43, 52]\n",
    "Desviación Estándar [16.5, 22]\n",
    "\n",
    "Confianza 85%:\n",
    "Media [42, 54]\n",
    "Desviación Estándar [15, 23]\n",
    "\n",
    "Claramente se comprueba la teoría de que a medida que disminuye el nivel de significancia los intervalos se vuelven más grandes, siendo esto un detalle que se debe tener muy en cuenta a la hora de requerir precisión y confianza.\n",
    "\n",
    "Finalmente, cabe mencionar que los valores reales (50,20) en los 6 gráficos se encuentran dentro de los intervalos de confianza, por lo que el método bootstrap es efectivo.\n",
    "Sin embargo, en el gráfico de 85% los valores reales se encuentran al borde de los intervalos, de manera que no es recomendable usar el 85% o menos de confianza debido a que se corre el riesgo de cometer estimaciones erróneas.\n",
    "\n",
    "PD: Disculpas de antemano si la linea horizontal sale de un color inconveniente y no se distingue fácilmente :("
   ]
  },
  {
   "cell_type": "markdown",
   "metadata": {},
   "source": [
    "## 3. Regresión Lineal (45p)\n",
    "\n",
    "Uno de los aspectos más importantes de estadística es el análisis de la relación entre dos variables, uno de los modelos más simples para esto es la *Regresión Lineal Simple* donde se estudia una relación lineal entre la variable dependiente e independiente, esto no tiene por qué solamente ser univariado (X e Y) si no que puede ser también multivariado donde se tiene un vector de variables independientes que determinan a una variable de interés.\n",
    "\n",
    "La regresión lineal simple de mínimos cuadrados es un modelo para representar una relación lineal entre dos variables mediante la ecuación: $Y = a\\cdot X + b + \\epsilon$. Este será el modelo que se trabajará en esta sección.\n",
    "\n",
    "Se trabajará con LRData.csv \n",
    "\n",
    ">a) Construya un modelo de regresión lineal donde X sea la variable independiente y la columna \"Valor\" la variable dependiente, luego calcule el MSE (mean standard error) de su modelo \n",
    "\n",
    "$$ MSE = \\frac{\\sum \\left(\\hat{Y_{i}}- Y_{i}\\right)^{2}}{n} $$\n",
    "\n",
    "$$\\hat{Y}: \\; prediccion$$\n",
    "\n",
    "$$Y: \\; valor\\, verdadero$$"
   ]
  },
  {
   "cell_type": "markdown",
   "metadata": {},
   "source": [
    "Desarrollo\n",
    "----------\n",
    "\n",
    "Funciones a Utilizar\n",
    "----------\n",
    "\n",
    "**MSE( array Y_ , array Y)**\n",
    "\n",
    "Función que calcula el Mean Standar Error en base al los valores predichos del arreglo Y_ y los valores normales del arreglo"
   ]
  },
  {
   "cell_type": "code",
   "execution_count": 80,
   "metadata": {},
   "outputs": [],
   "source": [
    "def MSE(Y_, Y):\n",
    "    mse = 0\n",
    "    i = 0\n",
    "    n = len(Y)\n",
    "    \n",
    "    while(i<n):\n",
    "        mse += (Y_[i] - Y[i])**2\n",
    "        i+=1\n",
    "        \n",
    "    mse /= n\n",
    "    \n",
    "    return mse"
   ]
  },
  {
   "cell_type": "markdown",
   "metadata": {},
   "source": [
    "**LR( array X, array Y)**\n",
    "\n",
    "Función que calcula la regesión lineal de los datos de entrenamiento X e Y. Retorna una tupla con la pendiente y el coeficiente de posición de la recta de regresión lineal."
   ]
  },
  {
   "cell_type": "code",
   "execution_count": 81,
   "metadata": {},
   "outputs": [],
   "source": [
    "def LR(X, Y):\n",
    "    n = len(X)\n",
    "    sumx = np.sum(X)\n",
    "    sumy = np.sum(Y)\n",
    "    sumxy = np.sum(X*Y)\n",
    "    sumx2 = np.sum(X**2)\n",
    "    promy = np.mean(Y)\n",
    "    promx = np.mean(X)\n",
    "    \n",
    "    a = (sumx*sumy-n*sumxy)/(sumx**2 - n*sumx2)\n",
    "    b = promy - a*promx\n",
    "    \n",
    "    return (a, b)"
   ]
  },
  {
   "cell_type": "markdown",
   "metadata": {},
   "source": [
    "**Y_PRED( array X_test , X_train , Y_train)**\n",
    "\n",
    "Función que retorna una lista que contiene la predicción de los valores de Y a partir de los valores de X_test a partir de los datos de entrenamiento X_train e Y_train."
   ]
  },
  {
   "cell_type": "code",
   "execution_count": 82,
   "metadata": {},
   "outputs": [],
   "source": [
    "def Y_PRED(X_test, X_train, Y_train):\n",
    "    lr = LR(X_train, Y_train)\n",
    "\n",
    "    Y_p = []\n",
    "    for x in X_test:\n",
    "        Y_p.append(x*lr[0]+lr[1])\n",
    "    \n",
    "    return Y_p"
   ]
  },
  {
   "cell_type": "markdown",
   "metadata": {},
   "source": [
    "----------------\n",
    "En primera instancia se nos pide calcular el MSE del modelo"
   ]
  },
  {
   "cell_type": "code",
   "execution_count": 83,
   "metadata": {},
   "outputs": [
    {
     "name": "stdout",
     "output_type": "stream",
     "text": [
      "[94650.61123406]\n"
     ]
    }
   ],
   "source": [
    "data = pd.read_csv('LRData.csv')\n",
    "\n",
    "X = data['x'].values.reshape(-1,1)\n",
    "Y = data['y'].values.reshape(-1,1)\n",
    "\n",
    "X_train, X_test, Y_train, Y_test = tts(X, Y, test_size = 0.2, random_state = 2019)\n",
    "Y_pred = Y_PRED(X_test, X_train, Y_train)\n",
    "print(MSE(list(Y_pred), list(Y_test)))"
   ]
  },
  {
   "cell_type": "markdown",
   "metadata": {},
   "source": [
    "Podemos observar que el MSE obtenido es muy grande, lo cual significa que hay grupos de datos muy dispersadas de otros."
   ]
  },
  {
   "cell_type": "markdown",
   "metadata": {},
   "source": [
    ">b) Construya un scatterplot donde grafique tanto los valores predichos por el modelo como los valores originales de la variable independiente en función de X. Al observar el gráfico ¿cree que sería posible mejorar el MSE obtenido en a)?\n",
    "\n",
    "Desarrollo\n",
    "----------\n",
    "\n",
    "Se construye el Scatterplot con los datos obtenidos"
   ]
  },
  {
   "cell_type": "code",
   "execution_count": 84,
   "metadata": {},
   "outputs": [
    {
     "data": {
      "image/png": "[encoded data removed]",
      "text/plain": [
       "<Figure size 432x288 with 1 Axes>"
      ]
     },
     "metadata": {
      "needs_background": "light"
     },
     "output_type": "display_data"
    }
   ],
   "source": [
    "plt.scatter(X, Y)\n",
    "plt.plot(X_test, Y_pred, color = 'red', linewidth = 3)\n",
    "plt.show()"
   ]
  },
  {
   "cell_type": "markdown",
   "metadata": {},
   "source": [
    "### Problema\n",
    "Como evidenciamos en el punto a), hay 3 grupos claramente diferenciables por la disperción entre estos, lo cual provoca que la regresión lineal sea poco representativa para el modelo.\n",
    "\n",
    "### Solución\n",
    "\n",
    "A modo de solucionar esto, proponemos separar el dataset en tres partes, de modo que podamos crear una función por partes."
   ]
  },
  {
   "cell_type": "markdown",
   "metadata": {},
   "source": [
    ">c) Si en b) respondió que no, saltese esta pregunta, caso contrario, implemente su solución, verifique el MSE disminuye y vuelva a graficar los valores.\n",
    "\n",
    "Desarrollo\n",
    "-----------\n",
    "\n",
    "Se divide el dataset en base a los tres grupos encontrados, a cada uno se le calcula el Mean Standar Error:\n",
    "\n",
    "**Grupo 1**"
   ]
  },
  {
   "cell_type": "code",
   "execution_count": 85,
   "metadata": {},
   "outputs": [
    {
     "name": "stdout",
     "output_type": "stream",
     "text": [
      "MSE Grupo 1:  [38.00888371]\n"
     ]
    }
   ],
   "source": [
    "X1 = X[:501]\n",
    "Y1 = Y[:501]\n",
    "\n",
    "X1_train, X1_test, Y1_train, Y1_test = tts(X1, Y1, test_size = 0.2,random_state=2019)\n",
    "\n",
    "Y1_pred = Y_PRED(X1_test, X1_train, Y1_train)\n",
    "\n",
    "print(\"MSE Grupo 1: \", MSE(list(Y1_pred), list(Y1_test)))"
   ]
  },
  {
   "cell_type": "markdown",
   "metadata": {},
   "source": [
    "**Grupo 2**"
   ]
  },
  {
   "cell_type": "code",
   "execution_count": 86,
   "metadata": {},
   "outputs": [
    {
     "name": "stdout",
     "output_type": "stream",
     "text": [
      "MSE Grupo 2:  [872.60717427]\n"
     ]
    }
   ],
   "source": [
    "X2 = X[501:1001]\n",
    "Y2 = Y[501:1001]\n",
    "X2_train, X2_test, Y2_train, Y2_test = tts(X2, Y2, test_size = 0.2,random_state=2019)\n",
    "\n",
    "Y2_pred = Y_PRED(X2_test, X2_train, Y2_train)\n",
    "\n",
    "print(\"MSE Grupo 2: \", MSE(list(Y2_pred), list(Y2_test)))"
   ]
  },
  {
   "cell_type": "markdown",
   "metadata": {},
   "source": [
    "**Grupo 3**"
   ]
  },
  {
   "cell_type": "code",
   "execution_count": 87,
   "metadata": {},
   "outputs": [
    {
     "name": "stdout",
     "output_type": "stream",
     "text": [
      "MSE Grupo 3:  [1643.85060513]\n"
     ]
    }
   ],
   "source": [
    "X3 = X[1001:]\n",
    "Y3 = Y[1001:]\n",
    "X3_train, X3_test, Y3_train, Y3_test = tts(X3, Y3, test_size = 0.2,random_state=2019)\n",
    "\n",
    "Y3_pred = Y_PRED(X3_test, X3_train, Y3_train)\n",
    "\n",
    "print(\"MSE Grupo 3: \", MSE(list(Y3_pred), list(Y3_test)))"
   ]
  },
  {
   "cell_type": "markdown",
   "metadata": {},
   "source": [
    "Se construye el Scatterplot con los nuevos datos generados:"
   ]
  },
  {
   "cell_type": "code",
   "execution_count": 88,
   "metadata": {},
   "outputs": [
    {
     "data": {
      "image/png": "[encoded data removed]",
      "text/plain": [
       "<Figure size 432x288 with 1 Axes>"
      ]
     },
     "metadata": {
      "needs_background": "light"
     },
     "output_type": "display_data"
    }
   ],
   "source": [
    "plt.scatter(X1, Y1,label=\"Grupo 1\")\n",
    "plt.plot(X1_test, Y1_pred, color = 'red', linewidth = 3,)\n",
    "plt.scatter(X2, Y2,label=\"Grupo 2\")\n",
    "plt.plot(X2_test, Y2_pred, color = 'red', linewidth = 3)\n",
    "plt.scatter(X3, Y3,label=\"Grupo 3\")\n",
    "plt.plot(X3_test, Y3_pred, color = 'red', linewidth = 3)\n",
    "plt.legend()\n",
    "plt.show()"
   ]
  },
  {
   "cell_type": "markdown",
   "metadata": {},
   "source": [
    "### Menor MSE\n",
    "\n",
    "Hay una baja notoria del MSE, y esto se evidencia en el gráfico al ver que la regresión lineal esta mucho mejor ajustada que en el punto b)."
   ]
  },
  {
   "cell_type": "markdown",
   "metadata": {},
   "source": [
    ">d) Utilizando su solución propuesta en c) calcule un intervalo de confianza con un nivel de 90%, 95% y 99% de confiabilidad cuando X = 749\n",
    "\n",
    "\n",
    "Desarrollo\n",
    "---------\n",
    "\n",
    "Funciones a utilizar\n",
    "----------\n",
    "\n",
    "**IC( array Y_test, float yr, float a)**\n",
    "\n",
    "Función que calcula el intervalo de confianza a partir de un Y_test, un pívot yr, y un nivel de confiabilidad a."
   ]
  },
  {
   "cell_type": "code",
   "execution_count": 89,
   "metadata": {},
   "outputs": [],
   "source": [
    "def IC(yt, yr, a):\n",
    "    y = np.mean(yt)\n",
    "    t = ts.ppf(a, len(yt)-1)\n",
    "    v = np.sum((yt-y)**2)\n",
    "    v /= len(yt)-1\n",
    "    n = len(yt)\n",
    "    li = yr - t*(v/n)**0.5\n",
    "    ls = yr + t*(v/n)**0.5\n",
    "    return [li[0], ls[0]]"
   ]
  },
  {
   "cell_type": "markdown",
   "metadata": {},
   "source": [
    "Se genaran la Regresión Lineal con los datos de entrenamiento y luego se calculan los intervalos de confianza para cada nivel de confiabilidad:"
   ]
  },
  {
   "cell_type": "code",
   "execution_count": 90,
   "metadata": {},
   "outputs": [],
   "source": [
    "lr2 = LR(X2_train, Y2_train)"
   ]
  },
  {
   "cell_type": "markdown",
   "metadata": {},
   "source": [
    "----------------\n",
    "Confiabilidad del 99%:"
   ]
  },
  {
   "cell_type": "code",
   "execution_count": 91,
   "metadata": {},
   "outputs": [
    {
     "name": "stdout",
     "output_type": "stream",
     "text": [
      "IC con un  nivel de confianza del 99% [883.2483490813404, 954.7971606677108]\n"
     ]
    }
   ],
   "source": [
    "print(\"IC con un  nivel de confianza del 99%\", IC(Y2_test, Y[749], 0.99))"
   ]
  },
  {
   "cell_type": "markdown",
   "metadata": {},
   "source": [
    "Confiabilidad del 95%:"
   ]
  },
  {
   "cell_type": "code",
   "execution_count": 92,
   "metadata": {},
   "outputs": [
    {
     "name": "stdout",
     "output_type": "stream",
     "text": [
      "IC con un  nivel de confianza del 95% [893.9024978546269, 944.1430118944244]\n"
     ]
    }
   ],
   "source": [
    "print(\"IC con un  nivel de confianza del 95%\", IC(Y2_test, Y[749], 0.95))"
   ]
  },
  {
   "cell_type": "markdown",
   "metadata": {},
   "source": [
    "Confiabilidad del 90%:"
   ]
  },
  {
   "cell_type": "code",
   "execution_count": 93,
   "metadata": {},
   "outputs": [
    {
     "name": "stdout",
     "output_type": "stream",
     "text": [
      "IC con un  nivel de confianza del 90% [899.503747619006, 938.5417621300452]\n"
     ]
    }
   ],
   "source": [
    "print(\"IC con un  nivel de confianza del 90%\", IC(Y2_test, Y[749], 0.9))"
   ]
  },
  {
   "cell_type": "markdown",
   "metadata": {},
   "source": [
    ">e) Comente como se debería implementar la solución dada en c) utilizando el método bootstrap y luego proceda a implementarla, compare ambos modelos resultantes y comente respecto al desempeño de éstos. Puede mencionar otros aspectos también (complejidad, implementación, etc).\n",
    "\n",
    "Desarrollo\n",
    "----------\n",
    "\n",
    "Funciones a utilizar\n",
    "---------\n",
    "\n",
    "**ICB( array X, array Y, int x, int a)**\n",
    "\n",
    "Función que calcula los intervalos de confianza con muestras boostrap a partir de los datos X e Y originales, el pívot x y el nivel de confianza a."
   ]
  },
  {
   "cell_type": "code",
   "execution_count": 94,
   "metadata": {},
   "outputs": [],
   "source": [
    "def ICB(X, Y, x, a):\n",
    "\n",
    "    y_real = Y[x-501]\n",
    "    lrs = []\n",
    "    \n",
    "    np.random.seed(2019)\n",
    "    \n",
    "    #Se realizan 1000 muestras bootstrap\n",
    "    for b in range(1000):\n",
    "        #Se elige el mismo numero de muestras que el de regresión lineal, para poder hacer una comparación de los intervalos.\n",
    "        X_train, X_test, Y_train, Y_test = tts(X, Y, test_size = 0.2)\n",
    "        \n",
    "        #Se calcula la regresión lineal de la muestra bootstrap \n",
    "        lr_b = LR(X_train, Y_train)\n",
    "        y_bootstrap = lr_b[0]*x + lr_b[1]\n",
    "        \n",
    "        #Se calcula la desviación de la regresión lineal para utilizar posteriormente el método de los percentiles\n",
    "        sigmaM = y_real - y_bootstrap\n",
    "        lrs.append(sigmaM)\n",
    "        \n",
    "\n",
    "        \n",
    "    #Se ordenan ascendentemente las desviaciones de la media y desviación estándar\n",
    "    lrs.sort()\n",
    "    #Luego para determinar los intervalos de confianza de cada dato, muestra y desviación estándar, se utiliza \n",
    "    #el método de los percentiles, el cual dice que si se quiere una confianza de x% con tamaño de la muestra n,\n",
    "    #el limite inferior del intervalo estará dado por la resta entre la muestra o desviación estándar de la muestra \n",
    "    # original según sea el caso y la desviación correspondiente a la posición: ((100-x)/2)*(n/100) para el límite\n",
    "    #inferior, y n-((100-x)/2)*(n/100) para el límite superior.\n",
    "    \n",
    "    # Nivel de confianza de 85%\n",
    "    \n",
    "    # Media\n",
    "    n = 1000 \n",
    "\n",
    "    lim_inf_lr = y_real - np.abs(lrs[int(n-((100-a)/2)*(n/100)-1)])\n",
    "    #Notar que la posición no es 75 exacto ya que comienza desde 0\n",
    "    lim_sup_lr = y_real + np.abs(lrs[int(((100-a)/2)*(n/100)-1)])\n",
    "        \n",
    "    y1 = [lim_inf_lr, lim_sup_lr]\n",
    "    \n",
    "    return y1"
   ]
  },
  {
   "cell_type": "markdown",
   "metadata": {},
   "source": [
    "---------------\n",
    "Se aplica la función ICB a los datos con un nivel de 90%, 95% y 99% al grupo X2 e Y2, ya que X=749 se encuentra en el segundo grupo de datos.\n",
    "\n",
    "Confiabilidad del 99%:"
   ]
  },
  {
   "cell_type": "code",
   "execution_count": 95,
   "metadata": {},
   "outputs": [
    {
     "name": "stdout",
     "output_type": "stream",
     "text": [
      "IC con un  nivel de confianza del 99% con bootstrap [861.2636458471685, 980.1746307902471]\n"
     ]
    }
   ],
   "source": [
    "boot99 = ICB(X2[:, 0], Y2[:, 0], 749, 99)\n",
    "print(\"IC con un  nivel de confianza del 99% con bootstrap\", boot99)"
   ]
  },
  {
   "cell_type": "markdown",
   "metadata": {},
   "source": [
    "Confiabilidad del 95%:"
   ]
  },
  {
   "cell_type": "code",
   "execution_count": 96,
   "metadata": {},
   "outputs": [
    {
     "name": "stdout",
     "output_type": "stream",
     "text": [
      "IC con un  nivel de confianza del 95% con bootstrap [860.8992267016223, 979.8067792952712]\n"
     ]
    }
   ],
   "source": [
    "boot95 = ICB(X2[:, 0], Y2[:, 0], 749, 95)\n",
    "print(\"IC con un  nivel de confianza del 95% con bootstrap\", boot95)"
   ]
  },
  {
   "cell_type": "markdown",
   "metadata": {},
   "source": [
    "Confiabilidad del 90%:"
   ]
  },
  {
   "cell_type": "code",
   "execution_count": 97,
   "metadata": {},
   "outputs": [
    {
     "name": "stdout",
     "output_type": "stream",
     "text": [
      "IC con un  nivel de confianza del 90% con bootstrap [860.6480599334249, 979.605880946943]\n"
     ]
    }
   ],
   "source": [
    "boot90 = ICB(X2[:, 0], Y2[:, 0], 749, 90)\n",
    "print(\"IC con un  nivel de confianza del 90% con bootstrap\", boot90)"
   ]
  }
 ],
 "metadata": {
  "kernelspec": {
   "display_name": "Python 3",
   "language": "python",
   "name": "python3"
  },
  "language_info": {
   "codemirror_mode": {
    "name": "ipython",
    "version": 3
   },
   "file_extension": ".py",
   "mimetype": "text/x-python",
   "name": "python",
   "nbconvert_exporter": "python",
   "pygments_lexer": "ipython3",
   "version": "3.6.8"
  }
 },
 "nbformat": 4,
 "nbformat_minor": 2
}
